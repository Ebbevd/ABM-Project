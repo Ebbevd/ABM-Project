{
 "cells": [
  {
   "cell_type": "markdown",
   "id": "a2748659",
   "metadata": {},
   "source": [
    "# virus_on_network"
   ]
  },
  {
   "cell_type": "markdown",
   "id": "66f34d69",
   "metadata": {},
   "source": [
    "Search for virus_on_network on google to find some explanation about this model"
   ]
  },
  {
   "cell_type": "code",
   "execution_count": null,
   "id": "d5cc1939",
   "metadata": {},
   "outputs": [],
   "source": [
    "# This model is compatible with mesa version 1.1.1"
   ]
  },
  {
   "cell_type": "markdown",
   "id": "1b243464",
   "metadata": {},
   "source": [
    "*In this assignment, you'll engage with this fun model to simulate virus propagation across various network topologies. You'll investigate how different network structures affect the transition rates among agent states: susceptible, infected, and resistant. As the simulation progresses, you'll observe emergent behaviors resulting from agent interactions and network configurations. You'll also introduce external scenarios and policy interventions into the model. This will allow you to examine how events like virus mutations or the discovery of a cure can alter the dynamics of the system. Additionally, you'll explore strategies that individual agents can adopt to mitigate infection risks.*"
   ]
  },
  {
   "cell_type": "markdown",
   "id": "ac3915fd",
   "metadata": {},
   "source": [
    "# Learning Objectives\n",
    "\n",
    "* Network Topology on Agent States (Related to Exercises 1 & 2)\n",
    "    * Network Visualization: You should be able to generate visual representations of networks, with emphasis on how different topologies affect the spread of states among agents.\n",
    "    * Data Interpretation: You should be able to analyze and interpret how different topologies influence individual agent states, as well as the overall network state.\n",
    "* Implementation of Scenarios and Events (Related to Exercise 3 & 4)\n",
    "    * Scenario Design: You should be able to create and implement scenarios that introduce external changes or events into the simulation\n",
    "    * Scenario Analysis: You should be able to evaluate the impact of these scenarios on the network and agent states, particularly in the context of different network topologies.\n",
    "* Formulation and Assessment of Policies (Related to Exercises 4 & 5)\n",
    "    * Policy Creation: You should be able to devise policies that can be implemented as interventions in the network\n",
    "    * Policy Evaluation: You should be able to assess the effectiveness of these policies, both in isolation and in conjunction with external scenarios, across various network topologies."
   ]
  },
  {
   "cell_type": "markdown",
   "id": "f2466981-7ae2-44eb-b440-32380b1df08b",
   "metadata": {},
   "source": [
    "# 1. Base model"
   ]
  },
  {
   "cell_type": "code",
   "execution_count": 22,
   "id": "e04978c7-8ae7-47de-8324-a162b02fa6ed",
   "metadata": {},
   "outputs": [],
   "source": [
    "import math  # Importing the math library for mathematical operations\n",
    "from enum import Enum  # Importing Enum for enumerations\n",
    "import networkx as nx  # Importing networkx for network operations\n",
    "import matplotlib.pyplot as plt  # Importing matplotlib for plotting\n",
    "\n",
    "# Importing necessary modules from the Mesa library for agent-based modeling\n",
    "from mesa import Agent, Model  \n",
    "from mesa.time import RandomActivation  \n",
    "from mesa.datacollection import DataCollector  \n",
    "from mesa.space import NetworkGrid  \n",
    "\n",
    "# Defining an enumeration class to represent the state of agents in the model\n",
    "#w e are making our Enumeration class, to hold constants : https://docs.python.org/3/library/enum.html\n",
    "class State(Enum):  \n",
    "    SUSCEPTIBLE = 0  # Susceptible state\n",
    "    INFECTED = 1  # Infected state\n",
    "    RESISTANT = 2  # Resistant state\n",
    "\n",
    "# Defining a list of network topologies to be used in the model\n",
    "network_topologies = ['Newman-Strogatz','Barabasi-Albert','Complete']  \n",
    "\n",
    "# Function to count the number of agents in a given state\n",
    "def number_state(model, state):  \n",
    "    return sum([1 for a in model.grid.get_all_cell_contents() if a.state is state])\n",
    "\n",
    "# Function to count the number of infected agents\n",
    "def number_infected(model):  \n",
    "    return number_state(model, State.INFECTED)\n",
    "\n",
    "# Function to count the number of susceptible agents\n",
    "def number_susceptible(model):  \n",
    "    return number_state(model, State.SUSCEPTIBLE)\n",
    "\n",
    "# Function to count the number of resistant agents\n",
    "def number_resistant(model):  \n",
    "    return number_state(model, State.RESISTANT)\n",
    "\n",
    "# Main model class\n",
    "class VirusOnNetwork(Model):  \n",
    "    \"\"\"A virus model with some number of agents\"\"\"\n",
    "\n",
    "    # Initialization method with default parameters\n",
    "    def __init__(\n",
    "        self,\n",
    "        num_nodes=10,  # Number of nodes/agents\n",
    "        avg_node_degree=3,  # Average degree of nodes in the network\n",
    "        initial_outbreak_size=1,  # Initial number of infected nodes\n",
    "        virus_spread_chance=0.4,  # Probability of spreading the virus\n",
    "        virus_check_frequency=0.4,  # Frequency of checking infection\n",
    "        recovery_chance=0.3,  # Probability of recovering from infection\n",
    "        gain_resistance_chance=0.5,  # Probability of gaining resistance\n",
    "        topology = 'Barabasi-Albert',  # Network topology\n",
    "    ):\n",
    "\n",
    "        self.num_nodes = num_nodes  # Initialize number of nodes\n",
    "        prob = avg_node_degree / self.num_nodes  # Calculate the probability for network topology that we will use later\n",
    "\n",
    "        # Initialize the network graph based on the chosen topology\n",
    "        if topology == 'Newman-Strogatz':  \n",
    "            self.G = nx.newman_watts_strogatz_graph(n=self.num_nodes, k= 3, p = prob)\n",
    "        if topology == 'Barabasi-Albert':  \n",
    "            self.G = nx.barabasi_albert_graph(n=self.num_nodes, m=1)\n",
    "        if topology == 'Complete':  \n",
    "            self.G = nx.complete_graph(n=self.num_nodes)\n",
    "\n",
    "        # Initialize the grid and scheduler\n",
    "        self.grid = NetworkGrid(self.G)  \n",
    "        self.schedule = RandomActivation(self)  \n",
    "        self.initial_outbreak_size = (\n",
    "            initial_outbreak_size if initial_outbreak_size <= num_nodes else num_nodes\n",
    "        )\n",
    "        self.virus_spread_chance = virus_spread_chance\n",
    "        self.virus_check_frequency = virus_check_frequency\n",
    "        self.recovery_chance = recovery_chance\n",
    "        self.gain_resistance_chance = gain_resistance_chance\n",
    "\n",
    "        # Initialize DataCollector\n",
    "        self.datacollector = DataCollector(  \n",
    "            {\n",
    "                \"Infected\": number_infected,\n",
    "                \"Susceptible\": number_susceptible,\n",
    "                \"Resistant\": number_resistant,\n",
    "            }\n",
    "        )\n",
    "\n",
    "        # Create agents and add them to the schedule and grid\n",
    "        for i, node in enumerate(self.G):  \n",
    "            a = VirusAgent(\n",
    "                i,\n",
    "                self,\n",
    "                State.SUSCEPTIBLE,\n",
    "                self.virus_spread_chance,\n",
    "                self.virus_check_frequency,\n",
    "                self.recovery_chance,\n",
    "                self.gain_resistance_chance,\n",
    "            )\n",
    "            self.schedule.add(a)  \n",
    "            self.grid.place_agent(a, node)  \n",
    "\n",
    "        # Infect some agents initially\n",
    "        infected_nodes = self.random.sample(list(self.G.nodes()), self.initial_outbreak_size)  \n",
    "        for a in self.grid.get_cell_list_contents(infected_nodes):  \n",
    "            a.state = State.INFECTED\n",
    "\n",
    "        self.running = True  # Set the running state to True\n",
    "        self.datacollector.collect(self)  # Collect initial data\n",
    "\n",
    "    # Calculate the ratio of resistant to susceptible agents\n",
    "    def resistant_susceptible_ratio(self):  \n",
    "        try:\n",
    "            return number_state(self, State.RESISTANT) / number_state(\n",
    "                self, State.SUSCEPTIBLE\n",
    "            )\n",
    "        except ZeroDivisionError:  # Handle division by zero\n",
    "            return math.inf\n",
    "\n",
    "    # Define the step method that goes through one time step\n",
    "    def step(self):  \n",
    "        self.schedule.step()  # Activate the agents\n",
    "        self.datacollector.collect(self)  # Collect data after the step\n",
    "    \n",
    "    #Function to easily run the model \n",
    "    def run_model(self, n):\n",
    "        # Loop through the model 'n' times\n",
    "        for i in range(n):\n",
    "         # Call the 'step' method to advance the model by one time step\n",
    "            self.step()\n",
    "\n",
    "\n",
    "# Agent class\n",
    "class VirusAgent(Agent):  \n",
    "    \"\"\"An agent in the virus model.\"\"\"\n",
    "\n",
    "    # Initialization method for agents\n",
    "    def __init__(\n",
    "        self,\n",
    "        unique_id,  # Unique identifier for the agent\n",
    "        model,  # Model instance the agent belongs to\n",
    "        initial_state,  # Initial state of the agent\n",
    "        virus_spread_chance,  # Probability of spreading the virus\n",
    "        virus_check_frequency,  # Frequency of checking infection\n",
    "        recovery_chance,  # Probability of recovering from infection\n",
    "        gain_resistance_chance,  # Probability of gaining resistance\n",
    "    ):\n",
    "        super().__init__(unique_id, model)  # Initialize the superclass\n",
    "        self.state = initial_state  # Set the initial state\n",
    "        self.virus_spread_chance = virus_spread_chance  # Set the virus spread chance\n",
    "        self.virus_check_frequency = virus_check_frequency  # Set the virus check frequency\n",
    "        self.recovery_chance = recovery_chance  # Set the recovery chance\n",
    "        self.gain_resistance_chance = gain_resistance_chance  # Set the gain resistance chance\n",
    "\n",
    "    # Method to try and infect neighbors\n",
    "    def try_to_infect_neighbors(self):  \n",
    "        neighbors_nodes = self.model.grid.get_neighbors(self.pos, include_center=False)  # Get neighboring nodes\n",
    "        susceptible_neighbors = [\n",
    "            agent\n",
    "            for agent in self.model.grid.get_cell_list_contents(neighbors_nodes)\n",
    "            if agent.state is State.SUSCEPTIBLE\n",
    "        ]  # Filter out susceptible neighbors\n",
    "        for a in susceptible_neighbors:  # Loop over each susceptible neighbor\n",
    "            if self.random.random() < self.virus_spread_chance:  # Chance to infect. randomly picks a number and checks whether it is smaller than the spread chance. \n",
    "                                                                    #If it is smaller --> there is infection.\n",
    "                a.state = State.INFECTED  # Change state to infected\n",
    "\n",
    "    # Method to try and gain resistance\n",
    "    def try_gain_resistance(self):  \n",
    "        if self.random.random() < self.gain_resistance_chance:  # Chance to gain resistance\n",
    "            self.state = State.RESISTANT  # Change state to resistant\n",
    "\n",
    "    # Method to try and remove infection\n",
    "    def try_remove_infection(self):  \n",
    "        # Try to remove\n",
    "        if self.random.random() < self.recovery_chance:  # Chance to recover\n",
    "            # Success\n",
    "            self.state = State.SUSCEPTIBLE  # Change state to susceptible\n",
    "            self.try_gain_resistance()  # Attempt to gain resistance\n",
    "        else:\n",
    "            # Failed\n",
    "            self.state = State.INFECTED\n",
    "\n",
    "    # Method to check the current situation and take action\n",
    "    def try_check_situation(self):  \n",
    "        if self.random.random() < self.virus_check_frequency:  # Chance to check situation\n",
    "            if self.state is State.INFECTED:  # If infected\n",
    "                self.try_remove_infection()  # Try to remove infection\n",
    "\n",
    "    # Define the actions to be taken in each step\n",
    "    def step(self):  \n",
    "        if self.state is State.INFECTED:  # If infected\n",
    "            self.try_to_infect_neighbors()  # Try to infect neighbors\n",
    "        self.try_check_situation()  # Check the situation\n"
   ]
  },
  {
   "cell_type": "markdown",
   "id": "8290dff8",
   "metadata": {},
   "source": [
    "# 2. Visualization"
   ]
  },
  {
   "cell_type": "code",
   "execution_count": 23,
   "id": "b84cce03-2557-46b4-b015-55a49e2a7aaf",
   "metadata": {},
   "outputs": [
    {
     "ename": "KeyError",
     "evalue": "<__main__.VirusAgent object at 0x14200ead0>",
     "output_type": "error",
     "traceback": [
      "\u001b[0;31m---------------------------------------------------------------------------\u001b[0m",
      "\u001b[0;31mKeyError\u001b[0m                                  Traceback (most recent call last)",
      "\u001b[1;32m/Users/ebbevandijk/Downloads/virus_on_a_network.ipynb Cell 9\u001b[0m line \u001b[0;36m4\n\u001b[1;32m     <a href='vscode-notebook-cell:/Users/ebbevandijk/Downloads/virus_on_a_network.ipynb#X11sZmlsZQ%3D%3D?line=40'>41</a>\u001b[0m anim \u001b[39m=\u001b[39m FuncAnimation(fig, update, interval \u001b[39m=\u001b[39m \u001b[39m100\u001b[39m, frames\u001b[39m=\u001b[39m\u001b[39m100\u001b[39m)\n\u001b[1;32m     <a href='vscode-notebook-cell:/Users/ebbevandijk/Downloads/virus_on_a_network.ipynb#X11sZmlsZQ%3D%3D?line=42'>43</a>\u001b[0m \u001b[39m# Displaying the animation as HTML5 video\u001b[39;00m\n\u001b[0;32m---> <a href='vscode-notebook-cell:/Users/ebbevandijk/Downloads/virus_on_a_network.ipynb#X11sZmlsZQ%3D%3D?line=43'>44</a>\u001b[0m HTML(anim\u001b[39m.\u001b[39mto_html5_video())\n",
      "File \u001b[0;32m~/anaconda3/lib/python3.11/site-packages/matplotlib/animation.py:1288\u001b[0m, in \u001b[0;36mAnimation.to_html5_video\u001b[0;34m(self, embed_limit)\u001b[0m\n\u001b[1;32m   1284\u001b[0m Writer \u001b[39m=\u001b[39m writers[mpl\u001b[39m.\u001b[39mrcParams[\u001b[39m'\u001b[39m\u001b[39manimation.writer\u001b[39m\u001b[39m'\u001b[39m]]\n\u001b[1;32m   1285\u001b[0m writer \u001b[39m=\u001b[39m Writer(codec\u001b[39m=\u001b[39m\u001b[39m'\u001b[39m\u001b[39mh264\u001b[39m\u001b[39m'\u001b[39m,\n\u001b[1;32m   1286\u001b[0m                 bitrate\u001b[39m=\u001b[39mmpl\u001b[39m.\u001b[39mrcParams[\u001b[39m'\u001b[39m\u001b[39manimation.bitrate\u001b[39m\u001b[39m'\u001b[39m],\n\u001b[1;32m   1287\u001b[0m                 fps\u001b[39m=\u001b[39m\u001b[39m1000.\u001b[39m \u001b[39m/\u001b[39m \u001b[39mself\u001b[39m\u001b[39m.\u001b[39m_interval)\n\u001b[0;32m-> 1288\u001b[0m \u001b[39mself\u001b[39m\u001b[39m.\u001b[39msave(\u001b[39mstr\u001b[39m(path), writer\u001b[39m=\u001b[39mwriter)\n\u001b[1;32m   1289\u001b[0m \u001b[39m# Now open and base64 encode.\u001b[39;00m\n\u001b[1;32m   1290\u001b[0m vid64 \u001b[39m=\u001b[39m base64\u001b[39m.\u001b[39mencodebytes(path\u001b[39m.\u001b[39mread_bytes())\n",
      "File \u001b[0;32m~/anaconda3/lib/python3.11/site-packages/matplotlib/animation.py:1090\u001b[0m, in \u001b[0;36mAnimation.save\u001b[0;34m(self, filename, writer, fps, dpi, codec, bitrate, extra_args, metadata, extra_anim, savefig_kwargs, progress_callback)\u001b[0m\n\u001b[1;32m   1085\u001b[0m \u001b[39mwith\u001b[39;00m mpl\u001b[39m.\u001b[39mrc_context({\u001b[39m'\u001b[39m\u001b[39msavefig.bbox\u001b[39m\u001b[39m'\u001b[39m: \u001b[39mNone\u001b[39;00m}), \\\n\u001b[1;32m   1086\u001b[0m      writer\u001b[39m.\u001b[39msaving(\u001b[39mself\u001b[39m\u001b[39m.\u001b[39m_fig, filename, dpi), \\\n\u001b[1;32m   1087\u001b[0m      cbook\u001b[39m.\u001b[39m_setattr_cm(\u001b[39mself\u001b[39m\u001b[39m.\u001b[39m_fig\u001b[39m.\u001b[39mcanvas,\n\u001b[1;32m   1088\u001b[0m                        _is_saving\u001b[39m=\u001b[39m\u001b[39mTrue\u001b[39;00m, manager\u001b[39m=\u001b[39m\u001b[39mNone\u001b[39;00m):\n\u001b[1;32m   1089\u001b[0m     \u001b[39mfor\u001b[39;00m anim \u001b[39min\u001b[39;00m all_anim:\n\u001b[0;32m-> 1090\u001b[0m         anim\u001b[39m.\u001b[39m_init_draw()  \u001b[39m# Clear the initial frame\u001b[39;00m\n\u001b[1;32m   1091\u001b[0m     frame_number \u001b[39m=\u001b[39m \u001b[39m0\u001b[39m\n\u001b[1;32m   1092\u001b[0m     \u001b[39m# TODO: Currently only FuncAnimation has a save_count\u001b[39;00m\n\u001b[1;32m   1093\u001b[0m     \u001b[39m#       attribute. Can we generalize this to all Animations?\u001b[39;00m\n",
      "File \u001b[0;32m~/anaconda3/lib/python3.11/site-packages/matplotlib/animation.py:1748\u001b[0m, in \u001b[0;36mFuncAnimation._init_draw\u001b[0;34m(self)\u001b[0m\n\u001b[1;32m   1740\u001b[0m         warnings\u001b[39m.\u001b[39mwarn(\n\u001b[1;32m   1741\u001b[0m             \u001b[39m\"\u001b[39m\u001b[39mCan not start iterating the frames for the initial draw. \u001b[39m\u001b[39m\"\u001b[39m\n\u001b[1;32m   1742\u001b[0m             \u001b[39m\"\u001b[39m\u001b[39mThis can be caused by passing in a 0 length sequence \u001b[39m\u001b[39m\"\u001b[39m\n\u001b[0;32m   (...)\u001b[0m\n\u001b[1;32m   1745\u001b[0m             \u001b[39m\"\u001b[39m\u001b[39mit may be exhausted due to a previous display or save.\u001b[39m\u001b[39m\"\u001b[39m\n\u001b[1;32m   1746\u001b[0m         )\n\u001b[1;32m   1747\u001b[0m         \u001b[39mreturn\u001b[39;00m\n\u001b[0;32m-> 1748\u001b[0m     \u001b[39mself\u001b[39m\u001b[39m.\u001b[39m_draw_frame(frame_data)\n\u001b[1;32m   1749\u001b[0m \u001b[39melse\u001b[39;00m:\n\u001b[1;32m   1750\u001b[0m     \u001b[39mself\u001b[39m\u001b[39m.\u001b[39m_drawn_artists \u001b[39m=\u001b[39m \u001b[39mself\u001b[39m\u001b[39m.\u001b[39m_init_func()\n",
      "File \u001b[0;32m~/anaconda3/lib/python3.11/site-packages/matplotlib/animation.py:1767\u001b[0m, in \u001b[0;36mFuncAnimation._draw_frame\u001b[0;34m(self, framedata)\u001b[0m\n\u001b[1;32m   1763\u001b[0m     \u001b[39mself\u001b[39m\u001b[39m.\u001b[39m_save_seq \u001b[39m=\u001b[39m \u001b[39mself\u001b[39m\u001b[39m.\u001b[39m_save_seq[\u001b[39m-\u001b[39m\u001b[39mself\u001b[39m\u001b[39m.\u001b[39m_save_count:]\n\u001b[1;32m   1765\u001b[0m \u001b[39m# Call the func with framedata and args. If blitting is desired,\u001b[39;00m\n\u001b[1;32m   1766\u001b[0m \u001b[39m# func needs to return a sequence of any artists that were modified.\u001b[39;00m\n\u001b[0;32m-> 1767\u001b[0m \u001b[39mself\u001b[39m\u001b[39m.\u001b[39m_drawn_artists \u001b[39m=\u001b[39m \u001b[39mself\u001b[39m\u001b[39m.\u001b[39m_func(framedata, \u001b[39m*\u001b[39m\u001b[39mself\u001b[39m\u001b[39m.\u001b[39m_args)\n\u001b[1;32m   1769\u001b[0m \u001b[39mif\u001b[39;00m \u001b[39mself\u001b[39m\u001b[39m.\u001b[39m_blit:\n\u001b[1;32m   1771\u001b[0m     err \u001b[39m=\u001b[39m \u001b[39mRuntimeError\u001b[39;00m(\u001b[39m'\u001b[39m\u001b[39mThe animation function must return a sequence \u001b[39m\u001b[39m'\u001b[39m\n\u001b[1;32m   1772\u001b[0m                        \u001b[39m'\u001b[39m\u001b[39mof Artist objects.\u001b[39m\u001b[39m'\u001b[39m)\n",
      "\u001b[1;32m/Users/ebbevandijk/Downloads/virus_on_a_network.ipynb Cell 9\u001b[0m line \u001b[0;36m3\n\u001b[1;32m     <a href='vscode-notebook-cell:/Users/ebbevandijk/Downloads/virus_on_a_network.ipynb#X11sZmlsZQ%3D%3D?line=35'>36</a>\u001b[0m ax\u001b[39m.\u001b[39mset_title(\u001b[39m\"\u001b[39m\u001b[39mState of the network at step=\u001b[39m\u001b[39m\"\u001b[39m\u001b[39m+\u001b[39m\u001b[39mstr\u001b[39m(frame))\n\u001b[1;32m     <a href='vscode-notebook-cell:/Users/ebbevandijk/Downloads/virus_on_a_network.ipynb#X11sZmlsZQ%3D%3D?line=36'>37</a>\u001b[0m \u001b[39m# Advancing the model by one step\u001b[39;00m\n\u001b[0;32m---> <a href='vscode-notebook-cell:/Users/ebbevandijk/Downloads/virus_on_a_network.ipynb#X11sZmlsZQ%3D%3D?line=37'>38</a>\u001b[0m model\u001b[39m.\u001b[39mstep()\n",
      "\u001b[1;32m/Users/ebbevandijk/Downloads/virus_on_a_network.ipynb Cell 9\u001b[0m line \u001b[0;36m1\n\u001b[1;32m    <a href='vscode-notebook-cell:/Users/ebbevandijk/Downloads/virus_on_a_network.ipynb#X11sZmlsZQ%3D%3D?line=117'>118</a>\u001b[0m \u001b[39mdef\u001b[39;00m \u001b[39mstep\u001b[39m(\u001b[39mself\u001b[39m):  \n\u001b[0;32m--> <a href='vscode-notebook-cell:/Users/ebbevandijk/Downloads/virus_on_a_network.ipynb#X11sZmlsZQ%3D%3D?line=118'>119</a>\u001b[0m     \u001b[39mself\u001b[39m\u001b[39m.\u001b[39mschedule\u001b[39m.\u001b[39mstep()  \u001b[39m# Activate the agents\u001b[39;00m\n\u001b[1;32m    <a href='vscode-notebook-cell:/Users/ebbevandijk/Downloads/virus_on_a_network.ipynb#X11sZmlsZQ%3D%3D?line=119'>120</a>\u001b[0m     \u001b[39mself\u001b[39m\u001b[39m.\u001b[39mdatacollector\u001b[39m.\u001b[39mcollect(\u001b[39mself\u001b[39m)\n",
      "File \u001b[0;32m~/anaconda3/lib/python3.11/site-packages/mesa/time.py:128\u001b[0m, in \u001b[0;36mRandomActivation.step\u001b[0;34m(self)\u001b[0m\n\u001b[1;32m    123\u001b[0m \u001b[39mdef\u001b[39;00m \u001b[39mstep\u001b[39m(\u001b[39mself\u001b[39m) \u001b[39m-\u001b[39m\u001b[39m>\u001b[39m \u001b[39mNone\u001b[39;00m:\n\u001b[1;32m    124\u001b[0m \u001b[39m    \u001b[39m\u001b[39m\"\"\"Executes the step of all agents, one at a time, in\u001b[39;00m\n\u001b[1;32m    125\u001b[0m \u001b[39m    random order.\u001b[39;00m\n\u001b[1;32m    126\u001b[0m \n\u001b[1;32m    127\u001b[0m \u001b[39m    \"\"\"\u001b[39;00m\n\u001b[0;32m--> 128\u001b[0m     \u001b[39mself\u001b[39m\u001b[39m.\u001b[39mdo_each(\u001b[39m\"\u001b[39m\u001b[39mstep\u001b[39m\u001b[39m\"\u001b[39m, shuffle\u001b[39m=\u001b[39m\u001b[39mTrue\u001b[39;00m)\n\u001b[1;32m    129\u001b[0m     \u001b[39mself\u001b[39m\u001b[39m.\u001b[39msteps \u001b[39m+\u001b[39m\u001b[39m=\u001b[39m \u001b[39m1\u001b[39m\n\u001b[1;32m    130\u001b[0m     \u001b[39mself\u001b[39m\u001b[39m.\u001b[39mtime \u001b[39m+\u001b[39m\u001b[39m=\u001b[39m \u001b[39m1\u001b[39m\n",
      "File \u001b[0;32m~/anaconda3/lib/python3.11/site-packages/mesa/time.py:110\u001b[0m, in \u001b[0;36mBaseScheduler.do_each\u001b[0;34m(self, method, agent_keys, shuffle)\u001b[0m\n\u001b[1;32m    108\u001b[0m \u001b[39mfor\u001b[39;00m agent_key \u001b[39min\u001b[39;00m agent_keys:\n\u001b[1;32m    109\u001b[0m     \u001b[39mif\u001b[39;00m agent_key \u001b[39min\u001b[39;00m \u001b[39mself\u001b[39m\u001b[39m.\u001b[39m_agents:\n\u001b[0;32m--> 110\u001b[0m         \u001b[39mgetattr\u001b[39m(\u001b[39mself\u001b[39m\u001b[39m.\u001b[39m_agents[agent_key], method)()\n",
      "\u001b[1;32m/Users/ebbevandijk/Downloads/virus_on_a_network.ipynb Cell 9\u001b[0m line \u001b[0;36m1\n\u001b[1;32m    <a href='vscode-notebook-cell:/Users/ebbevandijk/Downloads/virus_on_a_network.ipynb#X11sZmlsZQ%3D%3D?line=187'>188</a>\u001b[0m \u001b[39mdef\u001b[39;00m \u001b[39mstep\u001b[39m(\u001b[39mself\u001b[39m):  \n\u001b[1;32m    <a href='vscode-notebook-cell:/Users/ebbevandijk/Downloads/virus_on_a_network.ipynb#X11sZmlsZQ%3D%3D?line=188'>189</a>\u001b[0m     \u001b[39mif\u001b[39;00m \u001b[39mself\u001b[39m\u001b[39m.\u001b[39mstate \u001b[39mis\u001b[39;00m State\u001b[39m.\u001b[39mINFECTED:  \u001b[39m# If infected\u001b[39;00m\n\u001b[0;32m--> <a href='vscode-notebook-cell:/Users/ebbevandijk/Downloads/virus_on_a_network.ipynb#X11sZmlsZQ%3D%3D?line=189'>190</a>\u001b[0m         \u001b[39mself\u001b[39m\u001b[39m.\u001b[39mtry_to_infect_neighbors()  \u001b[39m# Try to infect neighbors\u001b[39;00m\n\u001b[1;32m    <a href='vscode-notebook-cell:/Users/ebbevandijk/Downloads/virus_on_a_network.ipynb#X11sZmlsZQ%3D%3D?line=190'>191</a>\u001b[0m     \u001b[39mself\u001b[39m\u001b[39m.\u001b[39mtry_check_situation()\n",
      "\u001b[1;32m/Users/ebbevandijk/Downloads/virus_on_a_network.ipynb Cell 9\u001b[0m line \u001b[0;36m1\n\u001b[1;32m    <a href='vscode-notebook-cell:/Users/ebbevandijk/Downloads/virus_on_a_network.ipynb#X11sZmlsZQ%3D%3D?line=152'>153</a>\u001b[0m \u001b[39mdef\u001b[39;00m \u001b[39mtry_to_infect_neighbors\u001b[39m(\u001b[39mself\u001b[39m):  \n\u001b[1;32m    <a href='vscode-notebook-cell:/Users/ebbevandijk/Downloads/virus_on_a_network.ipynb#X11sZmlsZQ%3D%3D?line=153'>154</a>\u001b[0m     neighbors_nodes \u001b[39m=\u001b[39m \u001b[39mself\u001b[39m\u001b[39m.\u001b[39mmodel\u001b[39m.\u001b[39mgrid\u001b[39m.\u001b[39mget_neighbors(\u001b[39mself\u001b[39m\u001b[39m.\u001b[39mpos, include_center\u001b[39m=\u001b[39m\u001b[39mFalse\u001b[39;00m)  \u001b[39m# Get neighboring nodes\u001b[39;00m\n\u001b[1;32m    <a href='vscode-notebook-cell:/Users/ebbevandijk/Downloads/virus_on_a_network.ipynb#X11sZmlsZQ%3D%3D?line=154'>155</a>\u001b[0m     susceptible_neighbors \u001b[39m=\u001b[39m [\n\u001b[1;32m    <a href='vscode-notebook-cell:/Users/ebbevandijk/Downloads/virus_on_a_network.ipynb#X11sZmlsZQ%3D%3D?line=155'>156</a>\u001b[0m         agent\n\u001b[0;32m--> <a href='vscode-notebook-cell:/Users/ebbevandijk/Downloads/virus_on_a_network.ipynb#X11sZmlsZQ%3D%3D?line=156'>157</a>\u001b[0m         \u001b[39mfor\u001b[39;00m agent \u001b[39min\u001b[39;00m \u001b[39mself\u001b[39m\u001b[39m.\u001b[39mmodel\u001b[39m.\u001b[39mgrid\u001b[39m.\u001b[39mget_cell_list_contents(neighbors_nodes)\n\u001b[1;32m    <a href='vscode-notebook-cell:/Users/ebbevandijk/Downloads/virus_on_a_network.ipynb#X11sZmlsZQ%3D%3D?line=157'>158</a>\u001b[0m         \u001b[39mif\u001b[39;00m agent\u001b[39m.\u001b[39mstate \u001b[39mis\u001b[39;00m State\u001b[39m.\u001b[39mSUSCEPTIBLE\n\u001b[1;32m    <a href='vscode-notebook-cell:/Users/ebbevandijk/Downloads/virus_on_a_network.ipynb#X11sZmlsZQ%3D%3D?line=158'>159</a>\u001b[0m     ]  \u001b[39m# Filter out susceptible neighbors\u001b[39;00m\n\u001b[1;32m    <a href='vscode-notebook-cell:/Users/ebbevandijk/Downloads/virus_on_a_network.ipynb#X11sZmlsZQ%3D%3D?line=159'>160</a>\u001b[0m     \u001b[39mfor\u001b[39;00m a \u001b[39min\u001b[39;00m susceptible_neighbors:  \u001b[39m# Loop over each susceptible neighbor\u001b[39;00m\n\u001b[1;32m    <a href='vscode-notebook-cell:/Users/ebbevandijk/Downloads/virus_on_a_network.ipynb#X11sZmlsZQ%3D%3D?line=160'>161</a>\u001b[0m         \u001b[39mif\u001b[39;00m \u001b[39mself\u001b[39m\u001b[39m.\u001b[39mrandom\u001b[39m.\u001b[39mrandom() \u001b[39m<\u001b[39m \u001b[39mself\u001b[39m\u001b[39m.\u001b[39mvirus_spread_chance:  \u001b[39m# Chance to infect. randomly picks a number and checks whether it is smaller than the spread chance. \u001b[39;00m\n\u001b[1;32m    <a href='vscode-notebook-cell:/Users/ebbevandijk/Downloads/virus_on_a_network.ipynb#X11sZmlsZQ%3D%3D?line=161'>162</a>\u001b[0m                                                                 \u001b[39m#If it is smaller --> there is infection.\u001b[39;00m\n",
      "File \u001b[0;32m~/anaconda3/lib/python3.11/site-packages/mesa/space.py:1053\u001b[0m, in \u001b[0;36mNetworkGrid.get_cell_list_contents\u001b[0;34m(self, cell_list)\u001b[0m\n\u001b[1;32m   1049\u001b[0m \u001b[39mdef\u001b[39;00m \u001b[39mget_cell_list_contents\u001b[39m(\u001b[39mself\u001b[39m, cell_list: \u001b[39mlist\u001b[39m[\u001b[39mint\u001b[39m]) \u001b[39m-\u001b[39m\u001b[39m>\u001b[39m \u001b[39mlist\u001b[39m[Agent]:\n\u001b[1;32m   1050\u001b[0m \u001b[39m    \u001b[39m\u001b[39m\"\"\"Returns a list of the agents contained in the nodes identified\u001b[39;00m\n\u001b[1;32m   1051\u001b[0m \u001b[39m    in `cell_list`; nodes with empty content are excluded.\u001b[39;00m\n\u001b[1;32m   1052\u001b[0m \u001b[39m    \"\"\"\u001b[39;00m\n\u001b[0;32m-> 1053\u001b[0m     \u001b[39mreturn\u001b[39;00m \u001b[39mlist\u001b[39m(\u001b[39mself\u001b[39m\u001b[39m.\u001b[39miter_cell_list_contents(cell_list))\n",
      "File \u001b[0;32m~/anaconda3/lib/python3.11/site-packages/mesa/space.py:1063\u001b[0m, in \u001b[0;36m<genexpr>\u001b[0;34m(.0)\u001b[0m\n\u001b[1;32m   1059\u001b[0m \u001b[39mdef\u001b[39;00m \u001b[39miter_cell_list_contents\u001b[39m(\u001b[39mself\u001b[39m, cell_list: \u001b[39mlist\u001b[39m[\u001b[39mint\u001b[39m]) \u001b[39m-\u001b[39m\u001b[39m>\u001b[39m Iterator[Agent]:\n\u001b[1;32m   1060\u001b[0m \u001b[39m    \u001b[39m\u001b[39m\"\"\"Returns an iterator of the agents contained in the nodes identified\u001b[39;00m\n\u001b[1;32m   1061\u001b[0m \u001b[39m    in `cell_list`; nodes with empty content are excluded.\u001b[39;00m\n\u001b[1;32m   1062\u001b[0m \u001b[39m    \"\"\"\u001b[39;00m\n\u001b[0;32m-> 1063\u001b[0m     \u001b[39mreturn\u001b[39;00m itertools\u001b[39m.\u001b[39mchain\u001b[39m.\u001b[39mfrom_iterable(\n\u001b[1;32m   1064\u001b[0m         \u001b[39mself\u001b[39m\u001b[39m.\u001b[39mG\u001b[39m.\u001b[39mnodes[node_id][\u001b[39m\"\u001b[39m\u001b[39magent\u001b[39m\u001b[39m\"\u001b[39m]\n\u001b[1;32m   1065\u001b[0m         \u001b[39mfor\u001b[39;00m node_id \u001b[39min\u001b[39;00m itertools\u001b[39m.\u001b[39mfilterfalse(\u001b[39mself\u001b[39m\u001b[39m.\u001b[39mis_cell_empty, cell_list)\n\u001b[1;32m   1066\u001b[0m     )\n",
      "File \u001b[0;32m~/anaconda3/lib/python3.11/site-packages/mesa/space.py:1047\u001b[0m, in \u001b[0;36mNetworkGrid.is_cell_empty\u001b[0;34m(self, node_id)\u001b[0m\n\u001b[1;32m   1045\u001b[0m \u001b[39mdef\u001b[39;00m \u001b[39mis_cell_empty\u001b[39m(\u001b[39mself\u001b[39m, node_id: \u001b[39mint\u001b[39m) \u001b[39m-\u001b[39m\u001b[39m>\u001b[39m \u001b[39mbool\u001b[39m:\n\u001b[1;32m   1046\u001b[0m \u001b[39m    \u001b[39m\u001b[39m\"\"\"Returns a bool of the contents of a cell.\"\"\"\u001b[39;00m\n\u001b[0;32m-> 1047\u001b[0m     \u001b[39mreturn\u001b[39;00m \u001b[39mself\u001b[39m\u001b[39m.\u001b[39mG\u001b[39m.\u001b[39mnodes[node_id][\u001b[39m\"\u001b[39m\u001b[39magent\u001b[39m\u001b[39m\"\u001b[39m] \u001b[39m==\u001b[39m \u001b[39mself\u001b[39m\u001b[39m.\u001b[39mdefault_val()\n",
      "File \u001b[0;32m~/anaconda3/lib/python3.11/site-packages/networkx/classes/reportviews.py:194\u001b[0m, in \u001b[0;36mNodeView.__getitem__\u001b[0;34m(self, n)\u001b[0m\n\u001b[1;32m    189\u001b[0m \u001b[39mif\u001b[39;00m \u001b[39misinstance\u001b[39m(n, \u001b[39mslice\u001b[39m):\n\u001b[1;32m    190\u001b[0m     \u001b[39mraise\u001b[39;00m nx\u001b[39m.\u001b[39mNetworkXError(\n\u001b[1;32m    191\u001b[0m         \u001b[39mf\u001b[39m\u001b[39m\"\u001b[39m\u001b[39m{\u001b[39;00m\u001b[39mtype\u001b[39m(\u001b[39mself\u001b[39m)\u001b[39m.\u001b[39m\u001b[39m__name__\u001b[39m\u001b[39m}\u001b[39;00m\u001b[39m does not support slicing, \u001b[39m\u001b[39m\"\u001b[39m\n\u001b[1;32m    192\u001b[0m         \u001b[39mf\u001b[39m\u001b[39m\"\u001b[39m\u001b[39mtry list(G.nodes)[\u001b[39m\u001b[39m{\u001b[39;00mn\u001b[39m.\u001b[39mstart\u001b[39m}\u001b[39;00m\u001b[39m:\u001b[39m\u001b[39m{\u001b[39;00mn\u001b[39m.\u001b[39mstop\u001b[39m}\u001b[39;00m\u001b[39m:\u001b[39m\u001b[39m{\u001b[39;00mn\u001b[39m.\u001b[39mstep\u001b[39m}\u001b[39;00m\u001b[39m]\u001b[39m\u001b[39m\"\u001b[39m\n\u001b[1;32m    193\u001b[0m     )\n\u001b[0;32m--> 194\u001b[0m \u001b[39mreturn\u001b[39;00m \u001b[39mself\u001b[39m\u001b[39m.\u001b[39m_nodes[n]\n",
      "\u001b[0;31mKeyError\u001b[0m: <__main__.VirusAgent object at 0x14200ead0>"
     ]
    },
    {
     "name": "stdout",
     "output_type": "stream",
     "text": [
      "Error in callback <function _draw_all_if_interactive at 0x113247e20> (for post_execute):\n"
     ]
    },
    {
     "ename": "KeyError",
     "evalue": "<__main__.VirusAgent object at 0x14200ead0>",
     "output_type": "error",
     "traceback": [
      "\u001b[0;31m---------------------------------------------------------------------------\u001b[0m",
      "\u001b[0;31mKeyError\u001b[0m                                  Traceback (most recent call last)",
      "File \u001b[0;32m~/anaconda3/lib/python3.11/site-packages/matplotlib/pyplot.py:120\u001b[0m, in \u001b[0;36m_draw_all_if_interactive\u001b[0;34m()\u001b[0m\n\u001b[1;32m    118\u001b[0m \u001b[39mdef\u001b[39;00m \u001b[39m_draw_all_if_interactive\u001b[39m():\n\u001b[1;32m    119\u001b[0m     \u001b[39mif\u001b[39;00m matplotlib\u001b[39m.\u001b[39mis_interactive():\n\u001b[0;32m--> 120\u001b[0m         draw_all()\n",
      "File \u001b[0;32m~/anaconda3/lib/python3.11/site-packages/matplotlib/_pylab_helpers.py:132\u001b[0m, in \u001b[0;36mGcf.draw_all\u001b[0;34m(cls, force)\u001b[0m\n\u001b[1;32m    130\u001b[0m \u001b[39mfor\u001b[39;00m manager \u001b[39min\u001b[39;00m \u001b[39mcls\u001b[39m\u001b[39m.\u001b[39mget_all_fig_managers():\n\u001b[1;32m    131\u001b[0m     \u001b[39mif\u001b[39;00m force \u001b[39mor\u001b[39;00m manager\u001b[39m.\u001b[39mcanvas\u001b[39m.\u001b[39mfigure\u001b[39m.\u001b[39mstale:\n\u001b[0;32m--> 132\u001b[0m         manager\u001b[39m.\u001b[39mcanvas\u001b[39m.\u001b[39mdraw_idle()\n",
      "File \u001b[0;32m~/anaconda3/lib/python3.11/site-packages/matplotlib/backend_bases.py:2082\u001b[0m, in \u001b[0;36mFigureCanvasBase.draw_idle\u001b[0;34m(self, *args, **kwargs)\u001b[0m\n\u001b[1;32m   2080\u001b[0m \u001b[39mif\u001b[39;00m \u001b[39mnot\u001b[39;00m \u001b[39mself\u001b[39m\u001b[39m.\u001b[39m_is_idle_drawing:\n\u001b[1;32m   2081\u001b[0m     \u001b[39mwith\u001b[39;00m \u001b[39mself\u001b[39m\u001b[39m.\u001b[39m_idle_draw_cntx():\n\u001b[0;32m-> 2082\u001b[0m         \u001b[39mself\u001b[39m\u001b[39m.\u001b[39mdraw(\u001b[39m*\u001b[39margs, \u001b[39m*\u001b[39m\u001b[39m*\u001b[39mkwargs)\n",
      "File \u001b[0;32m~/anaconda3/lib/python3.11/site-packages/matplotlib/backends/backend_agg.py:400\u001b[0m, in \u001b[0;36mFigureCanvasAgg.draw\u001b[0;34m(self)\u001b[0m\n\u001b[1;32m    396\u001b[0m \u001b[39m# Acquire a lock on the shared font cache.\u001b[39;00m\n\u001b[1;32m    397\u001b[0m \u001b[39mwith\u001b[39;00m RendererAgg\u001b[39m.\u001b[39mlock, \\\n\u001b[1;32m    398\u001b[0m      (\u001b[39mself\u001b[39m\u001b[39m.\u001b[39mtoolbar\u001b[39m.\u001b[39m_wait_cursor_for_draw_cm() \u001b[39mif\u001b[39;00m \u001b[39mself\u001b[39m\u001b[39m.\u001b[39mtoolbar\n\u001b[1;32m    399\u001b[0m       \u001b[39melse\u001b[39;00m nullcontext()):\n\u001b[0;32m--> 400\u001b[0m     \u001b[39mself\u001b[39m\u001b[39m.\u001b[39mfigure\u001b[39m.\u001b[39mdraw(\u001b[39mself\u001b[39m\u001b[39m.\u001b[39mrenderer)\n\u001b[1;32m    401\u001b[0m     \u001b[39m# A GUI class may be need to update a window using this draw, so\u001b[39;00m\n\u001b[1;32m    402\u001b[0m     \u001b[39m# don't forget to call the superclass.\u001b[39;00m\n\u001b[1;32m    403\u001b[0m     \u001b[39msuper\u001b[39m()\u001b[39m.\u001b[39mdraw()\n",
      "File \u001b[0;32m~/anaconda3/lib/python3.11/site-packages/matplotlib/artist.py:95\u001b[0m, in \u001b[0;36m_finalize_rasterization.<locals>.draw_wrapper\u001b[0;34m(artist, renderer, *args, **kwargs)\u001b[0m\n\u001b[1;32m     93\u001b[0m \u001b[39m@wraps\u001b[39m(draw)\n\u001b[1;32m     94\u001b[0m \u001b[39mdef\u001b[39;00m \u001b[39mdraw_wrapper\u001b[39m(artist, renderer, \u001b[39m*\u001b[39margs, \u001b[39m*\u001b[39m\u001b[39m*\u001b[39mkwargs):\n\u001b[0;32m---> 95\u001b[0m     result \u001b[39m=\u001b[39m draw(artist, renderer, \u001b[39m*\u001b[39margs, \u001b[39m*\u001b[39m\u001b[39m*\u001b[39mkwargs)\n\u001b[1;32m     96\u001b[0m     \u001b[39mif\u001b[39;00m renderer\u001b[39m.\u001b[39m_rasterizing:\n\u001b[1;32m     97\u001b[0m         renderer\u001b[39m.\u001b[39mstop_rasterizing()\n",
      "File \u001b[0;32m~/anaconda3/lib/python3.11/site-packages/matplotlib/artist.py:72\u001b[0m, in \u001b[0;36mallow_rasterization.<locals>.draw_wrapper\u001b[0;34m(artist, renderer)\u001b[0m\n\u001b[1;32m     69\u001b[0m     \u001b[39mif\u001b[39;00m artist\u001b[39m.\u001b[39mget_agg_filter() \u001b[39mis\u001b[39;00m \u001b[39mnot\u001b[39;00m \u001b[39mNone\u001b[39;00m:\n\u001b[1;32m     70\u001b[0m         renderer\u001b[39m.\u001b[39mstart_filter()\n\u001b[0;32m---> 72\u001b[0m     \u001b[39mreturn\u001b[39;00m draw(artist, renderer)\n\u001b[1;32m     73\u001b[0m \u001b[39mfinally\u001b[39;00m:\n\u001b[1;32m     74\u001b[0m     \u001b[39mif\u001b[39;00m artist\u001b[39m.\u001b[39mget_agg_filter() \u001b[39mis\u001b[39;00m \u001b[39mnot\u001b[39;00m \u001b[39mNone\u001b[39;00m:\n",
      "File \u001b[0;32m~/anaconda3/lib/python3.11/site-packages/matplotlib/figure.py:3185\u001b[0m, in \u001b[0;36mFigure.draw\u001b[0;34m(self, renderer)\u001b[0m\n\u001b[1;32m   3182\u001b[0m \u001b[39mfinally\u001b[39;00m:\n\u001b[1;32m   3183\u001b[0m     \u001b[39mself\u001b[39m\u001b[39m.\u001b[39mstale \u001b[39m=\u001b[39m \u001b[39mFalse\u001b[39;00m\n\u001b[0;32m-> 3185\u001b[0m DrawEvent(\u001b[39m\"\u001b[39m\u001b[39mdraw_event\u001b[39m\u001b[39m\"\u001b[39m, \u001b[39mself\u001b[39m\u001b[39m.\u001b[39mcanvas, renderer)\u001b[39m.\u001b[39m_process()\n",
      "File \u001b[0;32m~/anaconda3/lib/python3.11/site-packages/matplotlib/backend_bases.py:1263\u001b[0m, in \u001b[0;36mEvent._process\u001b[0;34m(self)\u001b[0m\n\u001b[1;32m   1261\u001b[0m \u001b[39mdef\u001b[39;00m \u001b[39m_process\u001b[39m(\u001b[39mself\u001b[39m):\n\u001b[1;32m   1262\u001b[0m \u001b[39m    \u001b[39m\u001b[39m\"\"\"Generate an event with name ``self.name`` on ``self.canvas``.\"\"\"\u001b[39;00m\n\u001b[0;32m-> 1263\u001b[0m     \u001b[39mself\u001b[39m\u001b[39m.\u001b[39mcanvas\u001b[39m.\u001b[39mcallbacks\u001b[39m.\u001b[39mprocess(\u001b[39mself\u001b[39m\u001b[39m.\u001b[39mname, \u001b[39mself\u001b[39m)\n",
      "File \u001b[0;32m~/anaconda3/lib/python3.11/site-packages/matplotlib/cbook/__init__.py:314\u001b[0m, in \u001b[0;36mCallbackRegistry.process\u001b[0;34m(self, s, *args, **kwargs)\u001b[0m\n\u001b[1;32m    312\u001b[0m \u001b[39mexcept\u001b[39;00m \u001b[39mException\u001b[39;00m \u001b[39mas\u001b[39;00m exc:\n\u001b[1;32m    313\u001b[0m     \u001b[39mif\u001b[39;00m \u001b[39mself\u001b[39m\u001b[39m.\u001b[39mexception_handler \u001b[39mis\u001b[39;00m \u001b[39mnot\u001b[39;00m \u001b[39mNone\u001b[39;00m:\n\u001b[0;32m--> 314\u001b[0m         \u001b[39mself\u001b[39m\u001b[39m.\u001b[39mexception_handler(exc)\n\u001b[1;32m    315\u001b[0m     \u001b[39melse\u001b[39;00m:\n\u001b[1;32m    316\u001b[0m         \u001b[39mraise\u001b[39;00m\n",
      "File \u001b[0;32m~/anaconda3/lib/python3.11/site-packages/matplotlib/cbook/__init__.py:98\u001b[0m, in \u001b[0;36m_exception_printer\u001b[0;34m(exc)\u001b[0m\n\u001b[1;32m     96\u001b[0m \u001b[39mdef\u001b[39;00m \u001b[39m_exception_printer\u001b[39m(exc):\n\u001b[1;32m     97\u001b[0m     \u001b[39mif\u001b[39;00m _get_running_interactive_framework() \u001b[39min\u001b[39;00m [\u001b[39m\"\u001b[39m\u001b[39mheadless\u001b[39m\u001b[39m\"\u001b[39m, \u001b[39mNone\u001b[39;00m]:\n\u001b[0;32m---> 98\u001b[0m         \u001b[39mraise\u001b[39;00m exc\n\u001b[1;32m     99\u001b[0m     \u001b[39melse\u001b[39;00m:\n\u001b[1;32m    100\u001b[0m         traceback\u001b[39m.\u001b[39mprint_exc()\n",
      "File \u001b[0;32m~/anaconda3/lib/python3.11/site-packages/matplotlib/cbook/__init__.py:309\u001b[0m, in \u001b[0;36mCallbackRegistry.process\u001b[0;34m(self, s, *args, **kwargs)\u001b[0m\n\u001b[1;32m    307\u001b[0m \u001b[39mif\u001b[39;00m func \u001b[39mis\u001b[39;00m \u001b[39mnot\u001b[39;00m \u001b[39mNone\u001b[39;00m:\n\u001b[1;32m    308\u001b[0m     \u001b[39mtry\u001b[39;00m:\n\u001b[0;32m--> 309\u001b[0m         func(\u001b[39m*\u001b[39margs, \u001b[39m*\u001b[39m\u001b[39m*\u001b[39mkwargs)\n\u001b[1;32m    310\u001b[0m     \u001b[39m# this does not capture KeyboardInterrupt, SystemExit,\u001b[39;00m\n\u001b[1;32m    311\u001b[0m     \u001b[39m# and GeneratorExit\u001b[39;00m\n\u001b[1;32m    312\u001b[0m     \u001b[39mexcept\u001b[39;00m \u001b[39mException\u001b[39;00m \u001b[39mas\u001b[39;00m exc:\n",
      "File \u001b[0;32m~/anaconda3/lib/python3.11/site-packages/matplotlib/animation.py:904\u001b[0m, in \u001b[0;36mAnimation._start\u001b[0;34m(self, *args)\u001b[0m\n\u001b[1;32m    901\u001b[0m \u001b[39mself\u001b[39m\u001b[39m.\u001b[39m_fig\u001b[39m.\u001b[39mcanvas\u001b[39m.\u001b[39mmpl_disconnect(\u001b[39mself\u001b[39m\u001b[39m.\u001b[39m_first_draw_id)\n\u001b[1;32m    903\u001b[0m \u001b[39m# Now do any initial draw\u001b[39;00m\n\u001b[0;32m--> 904\u001b[0m \u001b[39mself\u001b[39m\u001b[39m.\u001b[39m_init_draw()\n\u001b[1;32m    906\u001b[0m \u001b[39m# Add our callback for stepping the animation and\u001b[39;00m\n\u001b[1;32m    907\u001b[0m \u001b[39m# actually start the event_source.\u001b[39;00m\n\u001b[1;32m    908\u001b[0m \u001b[39mself\u001b[39m\u001b[39m.\u001b[39mevent_source\u001b[39m.\u001b[39madd_callback(\u001b[39mself\u001b[39m\u001b[39m.\u001b[39m_step)\n",
      "File \u001b[0;32m~/anaconda3/lib/python3.11/site-packages/matplotlib/animation.py:1748\u001b[0m, in \u001b[0;36mFuncAnimation._init_draw\u001b[0;34m(self)\u001b[0m\n\u001b[1;32m   1740\u001b[0m         warnings\u001b[39m.\u001b[39mwarn(\n\u001b[1;32m   1741\u001b[0m             \u001b[39m\"\u001b[39m\u001b[39mCan not start iterating the frames for the initial draw. \u001b[39m\u001b[39m\"\u001b[39m\n\u001b[1;32m   1742\u001b[0m             \u001b[39m\"\u001b[39m\u001b[39mThis can be caused by passing in a 0 length sequence \u001b[39m\u001b[39m\"\u001b[39m\n\u001b[0;32m   (...)\u001b[0m\n\u001b[1;32m   1745\u001b[0m             \u001b[39m\"\u001b[39m\u001b[39mit may be exhausted due to a previous display or save.\u001b[39m\u001b[39m\"\u001b[39m\n\u001b[1;32m   1746\u001b[0m         )\n\u001b[1;32m   1747\u001b[0m         \u001b[39mreturn\u001b[39;00m\n\u001b[0;32m-> 1748\u001b[0m     \u001b[39mself\u001b[39m\u001b[39m.\u001b[39m_draw_frame(frame_data)\n\u001b[1;32m   1749\u001b[0m \u001b[39melse\u001b[39;00m:\n\u001b[1;32m   1750\u001b[0m     \u001b[39mself\u001b[39m\u001b[39m.\u001b[39m_drawn_artists \u001b[39m=\u001b[39m \u001b[39mself\u001b[39m\u001b[39m.\u001b[39m_init_func()\n",
      "File \u001b[0;32m~/anaconda3/lib/python3.11/site-packages/matplotlib/animation.py:1767\u001b[0m, in \u001b[0;36mFuncAnimation._draw_frame\u001b[0;34m(self, framedata)\u001b[0m\n\u001b[1;32m   1763\u001b[0m     \u001b[39mself\u001b[39m\u001b[39m.\u001b[39m_save_seq \u001b[39m=\u001b[39m \u001b[39mself\u001b[39m\u001b[39m.\u001b[39m_save_seq[\u001b[39m-\u001b[39m\u001b[39mself\u001b[39m\u001b[39m.\u001b[39m_save_count:]\n\u001b[1;32m   1765\u001b[0m \u001b[39m# Call the func with framedata and args. If blitting is desired,\u001b[39;00m\n\u001b[1;32m   1766\u001b[0m \u001b[39m# func needs to return a sequence of any artists that were modified.\u001b[39;00m\n\u001b[0;32m-> 1767\u001b[0m \u001b[39mself\u001b[39m\u001b[39m.\u001b[39m_drawn_artists \u001b[39m=\u001b[39m \u001b[39mself\u001b[39m\u001b[39m.\u001b[39m_func(framedata, \u001b[39m*\u001b[39m\u001b[39mself\u001b[39m\u001b[39m.\u001b[39m_args)\n\u001b[1;32m   1769\u001b[0m \u001b[39mif\u001b[39;00m \u001b[39mself\u001b[39m\u001b[39m.\u001b[39m_blit:\n\u001b[1;32m   1771\u001b[0m     err \u001b[39m=\u001b[39m \u001b[39mRuntimeError\u001b[39;00m(\u001b[39m'\u001b[39m\u001b[39mThe animation function must return a sequence \u001b[39m\u001b[39m'\u001b[39m\n\u001b[1;32m   1772\u001b[0m                        \u001b[39m'\u001b[39m\u001b[39mof Artist objects.\u001b[39m\u001b[39m'\u001b[39m)\n",
      "\u001b[1;32m/Users/ebbevandijk/Downloads/virus_on_a_network.ipynb Cell 9\u001b[0m line \u001b[0;36m3\n\u001b[1;32m     <a href='vscode-notebook-cell:/Users/ebbevandijk/Downloads/virus_on_a_network.ipynb#X11sZmlsZQ%3D%3D?line=35'>36</a>\u001b[0m ax\u001b[39m.\u001b[39mset_title(\u001b[39m\"\u001b[39m\u001b[39mState of the network at step=\u001b[39m\u001b[39m\"\u001b[39m\u001b[39m+\u001b[39m\u001b[39mstr\u001b[39m(frame))\n\u001b[1;32m     <a href='vscode-notebook-cell:/Users/ebbevandijk/Downloads/virus_on_a_network.ipynb#X11sZmlsZQ%3D%3D?line=36'>37</a>\u001b[0m \u001b[39m# Advancing the model by one step\u001b[39;00m\n\u001b[0;32m---> <a href='vscode-notebook-cell:/Users/ebbevandijk/Downloads/virus_on_a_network.ipynb#X11sZmlsZQ%3D%3D?line=37'>38</a>\u001b[0m model\u001b[39m.\u001b[39mstep()\n",
      "\u001b[1;32m/Users/ebbevandijk/Downloads/virus_on_a_network.ipynb Cell 9\u001b[0m line \u001b[0;36m1\n\u001b[1;32m    <a href='vscode-notebook-cell:/Users/ebbevandijk/Downloads/virus_on_a_network.ipynb#X11sZmlsZQ%3D%3D?line=117'>118</a>\u001b[0m \u001b[39mdef\u001b[39;00m \u001b[39mstep\u001b[39m(\u001b[39mself\u001b[39m):  \n\u001b[0;32m--> <a href='vscode-notebook-cell:/Users/ebbevandijk/Downloads/virus_on_a_network.ipynb#X11sZmlsZQ%3D%3D?line=118'>119</a>\u001b[0m     \u001b[39mself\u001b[39m\u001b[39m.\u001b[39mschedule\u001b[39m.\u001b[39mstep()  \u001b[39m# Activate the agents\u001b[39;00m\n\u001b[1;32m    <a href='vscode-notebook-cell:/Users/ebbevandijk/Downloads/virus_on_a_network.ipynb#X11sZmlsZQ%3D%3D?line=119'>120</a>\u001b[0m     \u001b[39mself\u001b[39m\u001b[39m.\u001b[39mdatacollector\u001b[39m.\u001b[39mcollect(\u001b[39mself\u001b[39m)\n",
      "File \u001b[0;32m~/anaconda3/lib/python3.11/site-packages/mesa/time.py:128\u001b[0m, in \u001b[0;36mRandomActivation.step\u001b[0;34m(self)\u001b[0m\n\u001b[1;32m    123\u001b[0m \u001b[39mdef\u001b[39;00m \u001b[39mstep\u001b[39m(\u001b[39mself\u001b[39m) \u001b[39m-\u001b[39m\u001b[39m>\u001b[39m \u001b[39mNone\u001b[39;00m:\n\u001b[1;32m    124\u001b[0m \u001b[39m    \u001b[39m\u001b[39m\"\"\"Executes the step of all agents, one at a time, in\u001b[39;00m\n\u001b[1;32m    125\u001b[0m \u001b[39m    random order.\u001b[39;00m\n\u001b[1;32m    126\u001b[0m \n\u001b[1;32m    127\u001b[0m \u001b[39m    \"\"\"\u001b[39;00m\n\u001b[0;32m--> 128\u001b[0m     \u001b[39mself\u001b[39m\u001b[39m.\u001b[39mdo_each(\u001b[39m\"\u001b[39m\u001b[39mstep\u001b[39m\u001b[39m\"\u001b[39m, shuffle\u001b[39m=\u001b[39m\u001b[39mTrue\u001b[39;00m)\n\u001b[1;32m    129\u001b[0m     \u001b[39mself\u001b[39m\u001b[39m.\u001b[39msteps \u001b[39m+\u001b[39m\u001b[39m=\u001b[39m \u001b[39m1\u001b[39m\n\u001b[1;32m    130\u001b[0m     \u001b[39mself\u001b[39m\u001b[39m.\u001b[39mtime \u001b[39m+\u001b[39m\u001b[39m=\u001b[39m \u001b[39m1\u001b[39m\n",
      "File \u001b[0;32m~/anaconda3/lib/python3.11/site-packages/mesa/time.py:110\u001b[0m, in \u001b[0;36mBaseScheduler.do_each\u001b[0;34m(self, method, agent_keys, shuffle)\u001b[0m\n\u001b[1;32m    108\u001b[0m \u001b[39mfor\u001b[39;00m agent_key \u001b[39min\u001b[39;00m agent_keys:\n\u001b[1;32m    109\u001b[0m     \u001b[39mif\u001b[39;00m agent_key \u001b[39min\u001b[39;00m \u001b[39mself\u001b[39m\u001b[39m.\u001b[39m_agents:\n\u001b[0;32m--> 110\u001b[0m         \u001b[39mgetattr\u001b[39m(\u001b[39mself\u001b[39m\u001b[39m.\u001b[39m_agents[agent_key], method)()\n",
      "\u001b[1;32m/Users/ebbevandijk/Downloads/virus_on_a_network.ipynb Cell 9\u001b[0m line \u001b[0;36m1\n\u001b[1;32m    <a href='vscode-notebook-cell:/Users/ebbevandijk/Downloads/virus_on_a_network.ipynb#X11sZmlsZQ%3D%3D?line=187'>188</a>\u001b[0m \u001b[39mdef\u001b[39;00m \u001b[39mstep\u001b[39m(\u001b[39mself\u001b[39m):  \n\u001b[1;32m    <a href='vscode-notebook-cell:/Users/ebbevandijk/Downloads/virus_on_a_network.ipynb#X11sZmlsZQ%3D%3D?line=188'>189</a>\u001b[0m     \u001b[39mif\u001b[39;00m \u001b[39mself\u001b[39m\u001b[39m.\u001b[39mstate \u001b[39mis\u001b[39;00m State\u001b[39m.\u001b[39mINFECTED:  \u001b[39m# If infected\u001b[39;00m\n\u001b[0;32m--> <a href='vscode-notebook-cell:/Users/ebbevandijk/Downloads/virus_on_a_network.ipynb#X11sZmlsZQ%3D%3D?line=189'>190</a>\u001b[0m         \u001b[39mself\u001b[39m\u001b[39m.\u001b[39mtry_to_infect_neighbors()  \u001b[39m# Try to infect neighbors\u001b[39;00m\n\u001b[1;32m    <a href='vscode-notebook-cell:/Users/ebbevandijk/Downloads/virus_on_a_network.ipynb#X11sZmlsZQ%3D%3D?line=190'>191</a>\u001b[0m     \u001b[39mself\u001b[39m\u001b[39m.\u001b[39mtry_check_situation()\n",
      "\u001b[1;32m/Users/ebbevandijk/Downloads/virus_on_a_network.ipynb Cell 9\u001b[0m line \u001b[0;36m1\n\u001b[1;32m    <a href='vscode-notebook-cell:/Users/ebbevandijk/Downloads/virus_on_a_network.ipynb#X11sZmlsZQ%3D%3D?line=152'>153</a>\u001b[0m \u001b[39mdef\u001b[39;00m \u001b[39mtry_to_infect_neighbors\u001b[39m(\u001b[39mself\u001b[39m):  \n\u001b[1;32m    <a href='vscode-notebook-cell:/Users/ebbevandijk/Downloads/virus_on_a_network.ipynb#X11sZmlsZQ%3D%3D?line=153'>154</a>\u001b[0m     neighbors_nodes \u001b[39m=\u001b[39m \u001b[39mself\u001b[39m\u001b[39m.\u001b[39mmodel\u001b[39m.\u001b[39mgrid\u001b[39m.\u001b[39mget_neighbors(\u001b[39mself\u001b[39m\u001b[39m.\u001b[39mpos, include_center\u001b[39m=\u001b[39m\u001b[39mFalse\u001b[39;00m)  \u001b[39m# Get neighboring nodes\u001b[39;00m\n\u001b[1;32m    <a href='vscode-notebook-cell:/Users/ebbevandijk/Downloads/virus_on_a_network.ipynb#X11sZmlsZQ%3D%3D?line=154'>155</a>\u001b[0m     susceptible_neighbors \u001b[39m=\u001b[39m [\n\u001b[1;32m    <a href='vscode-notebook-cell:/Users/ebbevandijk/Downloads/virus_on_a_network.ipynb#X11sZmlsZQ%3D%3D?line=155'>156</a>\u001b[0m         agent\n\u001b[0;32m--> <a href='vscode-notebook-cell:/Users/ebbevandijk/Downloads/virus_on_a_network.ipynb#X11sZmlsZQ%3D%3D?line=156'>157</a>\u001b[0m         \u001b[39mfor\u001b[39;00m agent \u001b[39min\u001b[39;00m \u001b[39mself\u001b[39m\u001b[39m.\u001b[39mmodel\u001b[39m.\u001b[39mgrid\u001b[39m.\u001b[39mget_cell_list_contents(neighbors_nodes)\n\u001b[1;32m    <a href='vscode-notebook-cell:/Users/ebbevandijk/Downloads/virus_on_a_network.ipynb#X11sZmlsZQ%3D%3D?line=157'>158</a>\u001b[0m         \u001b[39mif\u001b[39;00m agent\u001b[39m.\u001b[39mstate \u001b[39mis\u001b[39;00m State\u001b[39m.\u001b[39mSUSCEPTIBLE\n\u001b[1;32m    <a href='vscode-notebook-cell:/Users/ebbevandijk/Downloads/virus_on_a_network.ipynb#X11sZmlsZQ%3D%3D?line=158'>159</a>\u001b[0m     ]  \u001b[39m# Filter out susceptible neighbors\u001b[39;00m\n\u001b[1;32m    <a href='vscode-notebook-cell:/Users/ebbevandijk/Downloads/virus_on_a_network.ipynb#X11sZmlsZQ%3D%3D?line=159'>160</a>\u001b[0m     \u001b[39mfor\u001b[39;00m a \u001b[39min\u001b[39;00m susceptible_neighbors:  \u001b[39m# Loop over each susceptible neighbor\u001b[39;00m\n\u001b[1;32m    <a href='vscode-notebook-cell:/Users/ebbevandijk/Downloads/virus_on_a_network.ipynb#X11sZmlsZQ%3D%3D?line=160'>161</a>\u001b[0m         \u001b[39mif\u001b[39;00m \u001b[39mself\u001b[39m\u001b[39m.\u001b[39mrandom\u001b[39m.\u001b[39mrandom() \u001b[39m<\u001b[39m \u001b[39mself\u001b[39m\u001b[39m.\u001b[39mvirus_spread_chance:  \u001b[39m# Chance to infect. randomly picks a number and checks whether it is smaller than the spread chance. \u001b[39;00m\n\u001b[1;32m    <a href='vscode-notebook-cell:/Users/ebbevandijk/Downloads/virus_on_a_network.ipynb#X11sZmlsZQ%3D%3D?line=161'>162</a>\u001b[0m                                                                 \u001b[39m#If it is smaller --> there is infection.\u001b[39;00m\n",
      "File \u001b[0;32m~/anaconda3/lib/python3.11/site-packages/mesa/space.py:1053\u001b[0m, in \u001b[0;36mNetworkGrid.get_cell_list_contents\u001b[0;34m(self, cell_list)\u001b[0m\n\u001b[1;32m   1049\u001b[0m \u001b[39mdef\u001b[39;00m \u001b[39mget_cell_list_contents\u001b[39m(\u001b[39mself\u001b[39m, cell_list: \u001b[39mlist\u001b[39m[\u001b[39mint\u001b[39m]) \u001b[39m-\u001b[39m\u001b[39m>\u001b[39m \u001b[39mlist\u001b[39m[Agent]:\n\u001b[1;32m   1050\u001b[0m \u001b[39m    \u001b[39m\u001b[39m\"\"\"Returns a list of the agents contained in the nodes identified\u001b[39;00m\n\u001b[1;32m   1051\u001b[0m \u001b[39m    in `cell_list`; nodes with empty content are excluded.\u001b[39;00m\n\u001b[1;32m   1052\u001b[0m \u001b[39m    \"\"\"\u001b[39;00m\n\u001b[0;32m-> 1053\u001b[0m     \u001b[39mreturn\u001b[39;00m \u001b[39mlist\u001b[39m(\u001b[39mself\u001b[39m\u001b[39m.\u001b[39miter_cell_list_contents(cell_list))\n",
      "File \u001b[0;32m~/anaconda3/lib/python3.11/site-packages/mesa/space.py:1063\u001b[0m, in \u001b[0;36m<genexpr>\u001b[0;34m(.0)\u001b[0m\n\u001b[1;32m   1059\u001b[0m \u001b[39mdef\u001b[39;00m \u001b[39miter_cell_list_contents\u001b[39m(\u001b[39mself\u001b[39m, cell_list: \u001b[39mlist\u001b[39m[\u001b[39mint\u001b[39m]) \u001b[39m-\u001b[39m\u001b[39m>\u001b[39m Iterator[Agent]:\n\u001b[1;32m   1060\u001b[0m \u001b[39m    \u001b[39m\u001b[39m\"\"\"Returns an iterator of the agents contained in the nodes identified\u001b[39;00m\n\u001b[1;32m   1061\u001b[0m \u001b[39m    in `cell_list`; nodes with empty content are excluded.\u001b[39;00m\n\u001b[1;32m   1062\u001b[0m \u001b[39m    \"\"\"\u001b[39;00m\n\u001b[0;32m-> 1063\u001b[0m     \u001b[39mreturn\u001b[39;00m itertools\u001b[39m.\u001b[39mchain\u001b[39m.\u001b[39mfrom_iterable(\n\u001b[1;32m   1064\u001b[0m         \u001b[39mself\u001b[39m\u001b[39m.\u001b[39mG\u001b[39m.\u001b[39mnodes[node_id][\u001b[39m\"\u001b[39m\u001b[39magent\u001b[39m\u001b[39m\"\u001b[39m]\n\u001b[1;32m   1065\u001b[0m         \u001b[39mfor\u001b[39;00m node_id \u001b[39min\u001b[39;00m itertools\u001b[39m.\u001b[39mfilterfalse(\u001b[39mself\u001b[39m\u001b[39m.\u001b[39mis_cell_empty, cell_list)\n\u001b[1;32m   1066\u001b[0m     )\n",
      "File \u001b[0;32m~/anaconda3/lib/python3.11/site-packages/mesa/space.py:1047\u001b[0m, in \u001b[0;36mNetworkGrid.is_cell_empty\u001b[0;34m(self, node_id)\u001b[0m\n\u001b[1;32m   1045\u001b[0m \u001b[39mdef\u001b[39;00m \u001b[39mis_cell_empty\u001b[39m(\u001b[39mself\u001b[39m, node_id: \u001b[39mint\u001b[39m) \u001b[39m-\u001b[39m\u001b[39m>\u001b[39m \u001b[39mbool\u001b[39m:\n\u001b[1;32m   1046\u001b[0m \u001b[39m    \u001b[39m\u001b[39m\"\"\"Returns a bool of the contents of a cell.\"\"\"\u001b[39;00m\n\u001b[0;32m-> 1047\u001b[0m     \u001b[39mreturn\u001b[39;00m \u001b[39mself\u001b[39m\u001b[39m.\u001b[39mG\u001b[39m.\u001b[39mnodes[node_id][\u001b[39m\"\u001b[39m\u001b[39magent\u001b[39m\u001b[39m\"\u001b[39m] \u001b[39m==\u001b[39m \u001b[39mself\u001b[39m\u001b[39m.\u001b[39mdefault_val()\n",
      "File \u001b[0;32m~/anaconda3/lib/python3.11/site-packages/networkx/classes/reportviews.py:194\u001b[0m, in \u001b[0;36mNodeView.__getitem__\u001b[0;34m(self, n)\u001b[0m\n\u001b[1;32m    189\u001b[0m \u001b[39mif\u001b[39;00m \u001b[39misinstance\u001b[39m(n, \u001b[39mslice\u001b[39m):\n\u001b[1;32m    190\u001b[0m     \u001b[39mraise\u001b[39;00m nx\u001b[39m.\u001b[39mNetworkXError(\n\u001b[1;32m    191\u001b[0m         \u001b[39mf\u001b[39m\u001b[39m\"\u001b[39m\u001b[39m{\u001b[39;00m\u001b[39mtype\u001b[39m(\u001b[39mself\u001b[39m)\u001b[39m.\u001b[39m\u001b[39m__name__\u001b[39m\u001b[39m}\u001b[39;00m\u001b[39m does not support slicing, \u001b[39m\u001b[39m\"\u001b[39m\n\u001b[1;32m    192\u001b[0m         \u001b[39mf\u001b[39m\u001b[39m\"\u001b[39m\u001b[39mtry list(G.nodes)[\u001b[39m\u001b[39m{\u001b[39;00mn\u001b[39m.\u001b[39mstart\u001b[39m}\u001b[39;00m\u001b[39m:\u001b[39m\u001b[39m{\u001b[39;00mn\u001b[39m.\u001b[39mstop\u001b[39m}\u001b[39;00m\u001b[39m:\u001b[39m\u001b[39m{\u001b[39;00mn\u001b[39m.\u001b[39mstep\u001b[39m}\u001b[39;00m\u001b[39m]\u001b[39m\u001b[39m\"\u001b[39m\n\u001b[1;32m    193\u001b[0m     )\n\u001b[0;32m--> 194\u001b[0m \u001b[39mreturn\u001b[39;00m \u001b[39mself\u001b[39m\u001b[39m.\u001b[39m_nodes[n]\n",
      "\u001b[0;31mKeyError\u001b[0m: <__main__.VirusAgent object at 0x14200ead0>"
     ]
    },
    {
     "data": {
      "image/png": "[encoded data removed]",
      "text/plain": [
       "<Figure size 800x500 with 1 Axes>"
      ]
     },
     "metadata": {},
     "output_type": "display_data"
    }
   ],
   "source": [
    "# Importing necessary libraries for animation and plotting\n",
    "from matplotlib.animation import FuncAnimation\n",
    "from matplotlib import animation, rc, collections\n",
    "from IPython.display import HTML\n",
    "\n",
    "# Importing colormap utilities for node colors\n",
    "from matplotlib.colors import ListedColormap, LinearSegmentedColormap\n",
    "# Defining a custom colormap to represent different states\n",
    "cmap = ListedColormap([\"lightblue\", \"orange\", \"green\",])\n",
    "\n",
    "# as a reminder\n",
    "# network_topologies = ['Newman-Strogatz','Barabasi-Albert','Complete']\n",
    "\n",
    "# Creating a figure and axis for plotting\n",
    "fig,ax=plt.subplots(1,1,figsize=(8,5))\n",
    "# Initializing the VirusOnNetwork model with 100 nodes and a 'Complete' topology\n",
    "model = VirusOnNetwork(100, topology=  'Complete')\n",
    "# Getting the network graph from the model\n",
    "graph = model.G\n",
    "# Setting the positions of the nodes using the spring layout algorithm\n",
    "pos = nx.spring_layout(graph, iterations=100)\n",
    "\n",
    "# Function to update the animation frame\n",
    "def update(frame):\n",
    "    # Clearing the current plot\n",
    "    plt.clf()\n",
    "    # Re-creating the axis for plotting\n",
    "    ax=fig.subplots()\n",
    "    # Getting the states of all agents in the model\n",
    "    states = [i.state for i in model.grid.get_all_cell_contents()]\n",
    "    # Getting the colors corresponding to the states of all agents\n",
    "    colors = [cmap(i.value) for i in states]\n",
    "    # Drawing the network graph with updated colors\n",
    "    nx.draw(graph, pos, node_size=20, edge_color='gray', node_color=colors, alpha=0.9,font_size=14,ax=ax)\n",
    "    # Setting the title to show the current step\n",
    "    ax.set_title(\"State of the network at step=\"+str(frame))\n",
    "    # Advancing the model by one step\n",
    "    model.step()\n",
    "\n",
    "# Creating the animation object\n",
    "anim = FuncAnimation(fig, update, interval = 100, frames=100)\n",
    "\n",
    "# Displaying the animation as HTML5 video\n",
    "HTML(anim.to_html5_video())  \n"
   ]
  },
  {
   "cell_type": "code",
   "execution_count": null,
   "id": "43c5477a-ef05-4ec1-9d75-cff24bb05f2c",
   "metadata": {},
   "outputs": [],
   "source": [
    "# Convenience function for creating the graph view\n",
    "def draw_graph(model):\n",
    "    # Defining a custom colormap to represent different states\n",
    "    cmap = ListedColormap([\"lightblue\", \"orange\", \"green\",])\n",
    "    # Getting the network graph from the model\n",
    "    graph = model.G\n",
    "    # Setting the positions of the nodes using the spring layout algorithm\n",
    "    pos = nx.spring_layout(graph, iterations=100)\n",
    "    \n",
    "    # Creating a figure and axis for plotting\n",
    "    fig, ax = plt.subplots(1, 1, figsize=(8, 5))\n",
    "    # Re-creating the axis for plotting (Note: This line may be redundant)\n",
    "    ax = fig.subplots()\n",
    "    # Getting the states of all agents in the model\n",
    "    states = [i.state for i in model.grid.get_all_cell_contents()]\n",
    "    # Getting the colors corresponding to the states of all agents\n",
    "    colors = [cmap(i.value) for i in states]\n",
    "    \n",
    "    # Drawing the network graph with node colors based on agent states\n",
    "    nx.draw(graph, pos, node_size=20, edge_color='gray', node_color=colors, alpha=0.9, font_size=14, ax=ax)\n",
    "    # Setting the title to describe the graph topology and agent states\n",
    "    ax.set_title(\"Topology of the graph and agent states\")\n",
    "\n",
    "# Call the draw_graph function to plot the graph\n",
    "draw_graph(model)\n"
   ]
  },
  {
   "cell_type": "code",
   "execution_count": null,
   "id": "809d030b",
   "metadata": {},
   "outputs": [],
   "source": []
  },
  {
   "cell_type": "code",
   "execution_count": null,
   "id": "2409ed14-b593-4d04-ad15-05ba6014ff62",
   "metadata": {},
   "outputs": [],
   "source": [
    "# Retrieve the agent-level data collected by the model's DataCollector\n",
    "agent_data = model.datacollector.get_agent_vars_dataframe()\n",
    "\n",
    "# Retrieve the model-level data collected by the model's DataCollector\n",
    "model_data = model.datacollector.get_model_vars_dataframe()\n"
   ]
  },
  {
   "cell_type": "code",
   "execution_count": null,
   "id": "2e0cb792-20d9-4504-85df-b96cb7c3bb1d",
   "metadata": {},
   "outputs": [],
   "source": [
    "#print model data frame\n",
    "model_data"
   ]
  },
  {
   "cell_type": "markdown",
   "id": "e78601ef",
   "metadata": {},
   "source": [
    "# 3. Exercices"
   ]
  },
  {
   "cell_type": "markdown",
   "id": "a4dfeb59-72a0-4acc-bbed-14db879814db",
   "metadata": {},
   "source": [
    "*These exercises are for this and next week, you do not need to finish them in 1 week.*\n",
    "\n",
    "\n",
    "# Exercise 1: Network Topology and Virus Spread\n",
    "\n",
    "In this exercise, you will investigate how different network topologies affect the spread of a virus across a population of agents. You will utilize both time-series plots and network visualizations to study these effects. This exercise is related to *Learning Objective 1: Network Topology on Agent States*\n"
   ]
  },
  {
   "cell_type": "markdown",
   "id": "c4faa37e",
   "metadata": {},
   "source": [
    "\n",
    "## 1a) Network Visualization\n",
    "* Plot Infected/Susceptible/Resistant Over Time: Create a time-series plot that shows the number of Infected, Susceptible, and Resistant agents over time for each of the topologies available in the model.\n",
    "\n",
    "* Graph View at the Last Step: Generate a network graph that visually represents the final states of agents in each topology. You can use the visualization example above.\n",
    "\n",
    "*_Hint : Consider looping over the network_topologies list and use the subplot examples from previous weeks to generate multiple plots together.*\n",
    "\n",
    "* EXTRA: create an animation that shows the graph advancing over time along with the state of the agents at each time step.\n",
    "\n",
    "\n"
   ]
  },
  {
   "cell_type": "code",
   "execution_count": null,
   "id": "e5d26f4d",
   "metadata": {},
   "outputs": [],
   "source": [
    "# answer here"
   ]
  },
  {
   "cell_type": "markdown",
   "id": "2d27dda1",
   "metadata": {},
   "source": [
    "\n",
    "## 1b) Observation\n",
    "* Explain Your Observations: Based on the visualizations you have generated, explain in a few words what you observe. How do different topologies affect the spread of the virus? Are there topologies where the virus spreads more quickly or more slowly?"
   ]
  },
  {
   "cell_type": "code",
   "execution_count": null,
   "id": "eac11c2a",
   "metadata": {},
   "outputs": [],
   "source": [
    "# answer here"
   ]
  },
  {
   "cell_type": "markdown",
   "id": "98972edd-6487-4d6a-921d-806486d5e844",
   "metadata": {},
   "source": [
    "# Exercise 2 Analyzing State Transitions of Individual Agents Across Different Network Topologies\n",
    "\n",
    "Understanding the behavior of individual agents is crucial for a comprehensive analysis of the simulation. For each agent, we want to know how many times the agent has been in the states of SUSCEPTIBLE, INFECTED, and RESISTANT during the simulation. Additionally, we will explore how these state transitions are influenced by the topology of the network.  By focusing on these micro-level behaviors, you will gain insights into how network structure affects individual and overall system dynamics. This exercice is related to *Learning Objective 1: Network Topology on Agent States.*"
   ]
  },
  {
   "cell_type": "markdown",
   "id": "8b81c660",
   "metadata": {},
   "source": [
    "\n",
    "## 2a) Implement Agent-Level Data Collection\n",
    "* Modify the agent class to include a data collector at the agent level.\n",
    "\n",
    "* The data collector should keep a count of how many times an agent transitions to each of the three states: SUSCEPTIBLE, INFECTED, and RESISTANT.\n",
    "*_Hint: Consider adding state transition counters in the agent class.*\n",
    "\n"
   ]
  },
  {
   "cell_type": "code",
   "execution_count": null,
   "id": "f1a2e1cc",
   "metadata": {},
   "outputs": [],
   "source": [
    "# answer here"
   ]
  },
  {
   "cell_type": "markdown",
   "id": "13d66650",
   "metadata": {},
   "source": [
    "\n",
    "## 2b) Visualize Agent State Transitions Across Topologies\n",
    "* For each network topology, generate a scatter plot with the following specifications:\n",
    "    \n",
    "    * Plot three points for each agent, representing the count of state changes to SUSCEPTIBLE, INFECTED, and RESISTANT. Use different colors for each state.\n",
    "    \n",
    "    * The y-axis should represent the count of state transitions.\n",
    "    \n",
    "    * The x-axis should represent the degree of the agent, which is the number of edges (connections) a node has. (The degree of an agent can be obtained using functions you've already employed in the Agent class.)\n",
    "    \n",
    "    * Generate this plot for the final timestep of the simulation.\n",
    "\n",
    ".\n",
    "* EXTRA: create an animation that updates these scatter plots at each timestep. This will allow you to observe how the state transitions evolve over time for each network topology.\n"
   ]
  },
  {
   "cell_type": "code",
   "execution_count": null,
   "id": "80d65233",
   "metadata": {},
   "outputs": [],
   "source": [
    "# answer here"
   ]
  },
  {
   "cell_type": "markdown",
   "id": "216c1afd-60b3-4958-a500-33bce5464f72",
   "metadata": {},
   "source": [
    "# Exercise 3: Avoiding infection.\n",
    "\n",
    "In this exercise, we explore the concept of adaptive behavior within the network model, specifically focusing on strategies that agents can employ to avoid infection. Agents will have the ability to sever connections based on their infection status and that of their neighbors. The goal is to understand how these individual decisions impact the overall network structure and the spread of infection, especially across different topologies. This exercice is relation to *Learning Objective 2: Implementation of Scenarios and Events.*"
   ]
  },
  {
   "cell_type": "markdown",
   "id": "0374b403",
   "metadata": {},
   "source": [
    "\n",
    "## 3a) Nodes Avoiding Re-infection\n",
    "\n",
    "* When the agent has become infected, it has a chance that it will remove its connection with the agent that infected them. Modify the agent class to include a probability that an agent will remove its connection with another agent that has infected it.\n",
    "\n",
    "* Reuse the analysis plots from earlier exercises to observe how this affects the network assuming different probabilities of removing the connection.\n"
   ]
  },
  {
   "cell_type": "code",
   "execution_count": null,
   "id": "2571be9c",
   "metadata": {},
   "outputs": [],
   "source": [
    "# answer here"
   ]
  },
  {
   "cell_type": "markdown",
   "id": "b8ea3840",
   "metadata": {},
   "source": [
    "\n",
    "## 3b) Nodes Avoiding Infecting Others\n",
    "\n",
    "* Make the nodes not want to infect others. When a node is infected, it will have a probability to disconnect from  other nodes that are susceptible. Extend the agent class to include a probability that an infected agent will disconnect from other agents that are susceptible.\n",
    "\n",
    "* Again, reuse the analysis plots from earlier exercises to understand the implications of this behavior on the network for different probabilities of connection removal.\n"
   ]
  },
  {
   "cell_type": "code",
   "execution_count": null,
   "id": "a7374d0a",
   "metadata": {},
   "outputs": [],
   "source": [
    "# answer here"
   ]
  },
  {
   "cell_type": "markdown",
   "id": "d5101e34",
   "metadata": {},
   "source": [
    "\n",
    "## 3c) Dual Strategy Implementation\n",
    "What is the effect when agents use both strategies at the same time, for the different topologies?\n",
    "* Investigate the impact when agents employ both strategies (from parts a and b) simultaneously, for different typologies\n",
    "\n",
    "* What are the emergent effects on network structure and infection dynamics for different topologies?\n"
   ]
  },
  {
   "cell_type": "code",
   "execution_count": null,
   "id": "48a5b8a4",
   "metadata": {},
   "outputs": [],
   "source": [
    "# answer here"
   ]
  },
  {
   "cell_type": "markdown",
   "id": "b6c5205a-a85c-49cb-bacb-c5d455a1321b",
   "metadata": {},
   "source": [
    "# Exercise 4\n",
    "(this exercise  will use the content from lectures on scenarios and policies. If you are here before those lectures, try to figure out a way how to do it!)\n",
    "\n",
    "In this exercise, we  we will work with scenarios and policies within the epidemiological network model. While scenarios are external events that impact the model, policies are deliberate interventions aimed at producing a specific outcome. The focus here is to understand how these external factors and interventions affect the dynamics of infection spread in various network topologies. This exercise is related to *Learning Objective 2: Implementation of Scenarios and Events* and *Learning Objective 3: Formulation and Assessment of Policies*\n",
    "\n",
    "***definitions***:\n",
    "\n",
    "*A scenario is a sequence of 1 or more events that happen at specific points in time, and have a cause external to the model. I.e. they are things that are not caused by model or agent state, but \"just happen\" to the model.*\n",
    "\n",
    "*A policy is a deliberate intervention (change to model or agent state or behavior) whose effect we want to understand. It can be happen either at the beginning of the model or at some point in time, triggered by the user or by some situation in the model.*\n"
   ]
  },
  {
   "cell_type": "markdown",
   "id": "1faf6634",
   "metadata": {},
   "source": [
    "## 4a) Implementing Scenarios\n",
    "* Create two scenarios :\n",
    "    * \"Virus Evolution  : Every 10 steps the chance to get infected by the virus increases by 20%\n",
    "    \n",
    "    * Cure Available : At step 20 a cure is found, and from then on, if infected, there is a 90 % chance that the node recovers. Cure does not change the infection rates.\n",
    "\n",
    "* Run the model for 100 steps, and 100 agents. Explore the effect of these scenarios of different topologies. Explore the outcome using previous plots\n"
   ]
  },
  {
   "cell_type": "code",
   "execution_count": null,
   "id": "563347a9",
   "metadata": {},
   "outputs": [],
   "source": [
    "# answer here"
   ]
  },
  {
   "cell_type": "markdown",
   "id": "7b8818ce",
   "metadata": {},
   "source": [
    "\n",
    "## 4b) Policy Formulation\n",
    "\n",
    "* Create a policy (that can be turned on or off) that allows you to vaccinate 10% of all nodes per timestep. Vaccinated nodes should only have a 10% chance of getting infected.\n",
    "\n",
    "* Investigate the impact of this vaccination policy on the basic model across different network topologies."
   ]
  },
  {
   "cell_type": "code",
   "execution_count": null,
   "id": "1b24f026",
   "metadata": {},
   "outputs": [],
   "source": [
    "# answer here"
   ]
  },
  {
   "cell_type": "markdown",
   "id": "a720d937",
   "metadata": {},
   "source": [
    "\n",
    "## 4c) Policy Effects Under Different Scenarios\n",
    "* Explore the effect of having or not having a vaccination policy under the base case, \"Virus Evolution\" and \"Cure Available\" scenarios\n",
    "\n",
    "\n",
    "*Hint: You may need to run multiple simulations to capture the variability in outcomes.*\n"
   ]
  },
  {
   "cell_type": "code",
   "execution_count": null,
   "id": "a6f52db4",
   "metadata": {},
   "outputs": [],
   "source": [
    "# answer here"
   ]
  },
  {
   "cell_type": "markdown",
   "id": "1dfcf84a-f94b-4350-8f17-36cb7b7deb1e",
   "metadata": {},
   "source": [
    "# Exercise 5 - Mortality, Quarantine, and Spatial Environment in Network Epidemiology\n",
    "In this exercise, you'll extend the model to account for mortality, implement quarantine policies, and transition from a graph-based to a spatial environment. The aim is to understand how these added complexities interact with the existing model and influence the spread of the virus across different scenarios and topologies.\n",
    "This exercise is related to *Learning Objective 3: Formulation and Assessment of Policies*\n",
    "\n"
   ]
  },
  {
   "cell_type": "markdown",
   "id": "c7821459",
   "metadata": {},
   "source": [
    "## 5a) Agent Mortality\n",
    "\n",
    "* Modify the model so that agents can die after being sick for a configurable amount of time. When they die, they should be removed from the model.\n",
    "\n",
    "* Investigate the model's behavior using the analysis plots from previous exercises.\n",
    "\n",
    "*Hint: You'll need to add a counter for each agent to track how long they've been infected.*\n",
    "\n"
   ]
  },
  {
   "cell_type": "code",
   "execution_count": null,
   "id": "f210d5e4",
   "metadata": {},
   "outputs": [],
   "source": [
    "# answer here"
   ]
  },
  {
   "cell_type": "markdown",
   "id": "d0daacca",
   "metadata": {},
   "source": [
    "## 5b) Quarantine Policy\n",
    "\n",
    "* Implement a policy to isolate nodes for a configurable period when the number of deaths reaches a certain threshold. Nodes in isolation have a configurable chance of breaking quarantine.\n",
    "\n",
    "* Investigate this policy's impact under the base case, \"Virus Evolution,\" and \"Cure Available\" scenarios for varying thresholds and chances to break quarantine.\n",
    "\n",
    "*Hint: You may want to create a new agent state for 'Quarantined'.*\n",
    "\n"
   ]
  },
  {
   "cell_type": "code",
   "execution_count": null,
   "id": "6e45ef3a",
   "metadata": {},
   "outputs": [],
   "source": [
    "# answer here"
   ]
  },
  {
   "cell_type": "markdown",
   "id": "66a75a4d",
   "metadata": {},
   "source": [
    "## 5c) Transition to a 2D Hex Grid\n",
    "\n",
    "* Replace the graph-based environment with a 2D hexagonal grid.\n",
    "\n",
    "* Implement a normally distributed chance for agents to get infected based on their distance to a sick agent.\n",
    "\n",
    "* Explore the scenarios and policies mentioned above in this new spatial context.\n",
    "\n",
    "*Hint: You'll need to modify how agents interact based on their spatial relationships*\n"
   ]
  },
  {
   "cell_type": "code",
   "execution_count": null,
   "id": "2d040755-a5cd-47f8-816a-56c1fc26dc5a",
   "metadata": {},
   "outputs": [],
   "source": [
    "# answer here"
   ]
  },
  {
   "cell_type": "markdown",
   "id": "8a2398b9",
   "metadata": {},
   "source": [
    "*If you've reached this point, it means you've either successfully finished all the complex models we've thrown your way throughout the course, or you've time-traveled straight to the grand finale. If it's the former, congratulations! now time for some revisions for the final exam! If it's the latter, well, you're either a genius or a daredevil—either way, may the odds be ever in your favor as you backtrack through the maze of computational challenges. On a lighter note, you're now officially ready to model a zombie apocalypse or solve world hunger—your pick!*\n",
    "\n",
    "Omar and Igor"
   ]
  }
 ],
 "metadata": {
  "kernelspec": {
   "display_name": "Python 3 [3.10]",
   "language": "python",
   "name": "python3"
  },
  "language_info": {
   "codemirror_mode": {
    "name": "ipython",
    "version": 3
   },
   "file_extension": ".py",
   "mimetype": "text/x-python",
   "name": "python",
   "nbconvert_exporter": "python",
   "pygments_lexer": "ipython3",
   "version": "3.11.5"
  },
  "vscode": {
   "interpreter": {
    "hash": "ba734c44879edc1aadd96d1483e3c8c4b172ceac85e15a48cc8368b614d0488f"
   }
  }
 },
 "nbformat": 4,
 "nbformat_minor": 5
}
